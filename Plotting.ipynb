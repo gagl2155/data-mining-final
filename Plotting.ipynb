{
 "cells": [
  {
   "cell_type": "code",
   "execution_count": 1,
   "metadata": {},
   "outputs": [],
   "source": [
    "import pandas as pd\n",
    "import matplotlib.pyplot as plt\n",
    "import folium\n",
    "from folium.plugins import HeatMap\n",
    "import seaborn as sns\n",
    "from scipy import stats"
   ]
  },
  {
   "cell_type": "code",
   "execution_count": 2,
   "metadata": {},
   "outputs": [],
   "source": [
    "df = pd.read_csv(\"Crimes_-_2001_to_present.csv\")"
   ]
  },
  {
   "cell_type": "code",
   "execution_count": 3,
   "metadata": {},
   "outputs": [
    {
     "name": "stdout",
     "output_type": "stream",
     "text": [
      "100XX W OHARE ST                       1271\n",
      "023XX S STATE ST                        916\n",
      "076XX S CICERO AVE                      732\n",
      "001XX N STATE ST                        612\n",
      "022XX S STATE ST                        575\n",
      "063XX S DR MARTIN LUTHER KING JR DR     571\n",
      "012XX N BURLING ST                      563\n",
      "005XX E BROWNING AVE                    551\n",
      "062XX S CALUMET AVE                     501\n",
      "015XX W 13TH ST                         500\n",
      "0000X N STATE ST                        495\n",
      "029XX S STATE ST                        472\n",
      "001XX W 87TH ST                         446\n",
      "027XX S DEARBORN ST                     443\n",
      "008XX N MICHIGAN AVE                    425\n",
      "024XX W MONROE ST                       395\n",
      "024XX S STATE ST                        375\n",
      "006XX W DIVISION ST                     369\n",
      "064XX S DR MARTIN LUTHER KING JR DR     364\n",
      "027XX W OGDEN AVE                       341\n",
      "012XX S WABASH AVE                      332\n",
      "025XX W JACKSON BLVD                    324\n",
      "015XX W HASTINGS ST                     299\n",
      "027XX S STATE ST                        292\n",
      "002XX W 87TH ST                         291\n",
      "0000X W 95TH ST                         288\n",
      "061XX S COTTAGE GROVE AVE               285\n",
      "048XX W NORTH AVE                       272\n",
      "036XX S FEDERAL ST                      272\n",
      "032XX W ROOSEVELT RD                    269\n",
      "                                       ... \n",
      "001XX E 33RD BLVD                         1\n",
      "090XX S GREEN BAY AVE                     1\n",
      "043XX W BARRY AVE                         1\n",
      "008XX S FRANCISCO AVE                     1\n",
      "031XX W FRANKLIN SD                       1\n",
      "043XX W AINSLIE ST                        1\n",
      "020XX E 89TH ST                           1\n",
      "053XX S NEWCASTLE AVE                     1\n",
      "0000X N MORGAN ST                         1\n",
      "110XX S ROCKWELL ST                       1\n",
      "033XX N MOBILE AVE                        1\n",
      "014XX E ROCHDALE PL                       1\n",
      "039XX N KILBOURN AVE                      1\n",
      "057XX S OAK PARK AVE                      1\n",
      "010XX W 40TH ST                           1\n",
      "037XX S RACINE AVE                        1\n",
      "131XX S MANISTEE AVE                      1\n",
      "014XX W 15TH ST                           1\n",
      "086XX W FOREST PRESERVE AVE               1\n",
      "073XX W LUNT AVE                          1\n",
      "020XX N DOMINICK ST                       1\n",
      "064XX N OLIPHANT AVE                      1\n",
      "008XX E 115TH ST                          1\n",
      "042XX W 17TH ST                           1\n",
      "050XX N MARMORA AVE                       1\n",
      "058XX S MERRIMAC AVE                      1\n",
      "047XX W 44TH ST                           1\n",
      "013XX W 122ND ST                          1\n",
      "028XX W 81ST ST                           1\n",
      "042XX W ARGYLE ST                         1\n",
      "Name: Block, Length: 29090, dtype: int64\n"
     ]
    }
   ],
   "source": [
    "print(df[df['Year'] == 2005].Block.value_counts())"
   ]
  },
  {
   "cell_type": "code",
   "execution_count": 8,
   "metadata": {},
   "outputs": [
    {
     "name": "stdout",
     "output_type": "stream",
     "text": [
      "['ID' 'Case Number' 'Date' 'Block' 'IUCR' 'Primary Type' 'Description'\n",
      " 'Location Description' 'Arrest' 'Domestic' 'Beat' 'District' 'Ward'\n",
      " 'Community Area' 'FBI Code' 'X Coordinate' 'Y Coordinate' 'Year'\n",
      " 'Updated On' 'Latitude' 'Longitude' 'Location']\n"
     ]
    }
   ],
   "source": [
    "print(df.columns.values)"
   ]
  },
  {
   "cell_type": "code",
   "execution_count": 7,
   "metadata": {},
   "outputs": [
    {
     "data": {
      "text/plain": [
       "THEFT                         746\n",
       "DECEPTIVE PRACTICE            254\n",
       "CRIMINAL TRESPASS             198\n",
       "CRIMINAL DAMAGE               154\n",
       "MOTOR VEHICLE THEFT           135\n",
       "BATTERY                       134\n",
       "ASSAULT                        63\n",
       "WEAPONS VIOLATION              45\n",
       "NARCOTICS                      44\n",
       "OTHER OFFENSE                  44\n",
       "PUBLIC PEACE VIOLATION         18\n",
       "BURGLARY                       15\n",
       "SEX OFFENSE                     7\n",
       "LIQUOR LAW VIOLATION            3\n",
       "ROBBERY                         2\n",
       "OFFENSE INVOLVING CHILDREN      2\n",
       "PROSTITUTION                    1\n",
       "INTIMIDATION                    1\n",
       "Name: Primary Type, dtype: int64"
      ]
     },
     "execution_count": 7,
     "metadata": {},
     "output_type": "execute_result"
    }
   ],
   "source": [
    "small_df = df[df['Year'] == 2001]\n",
    "small_df = small_df[small_df['Block'] == '100XX W OHARE ST']\n",
    "small_df['Primary Type'].value_counts()"
   ]
  },
  {
   "cell_type": "code",
   "execution_count": 14,
   "metadata": {},
   "outputs": [],
   "source": [
    "years = (2001,2002,2003,2004,2005,2006,2007,2008,2009,2010,2011,2012,2013,2014,2015,2016,2017)\n",
    "Ohare = {}\n",
    "for year in years:\n",
    "    small_df = df[df['Year'] == year]\n",
    "    small_df = small_df[small_df['Block'] == '100XX W OHARE ST']\n",
    "    Ohare[year] = small_df['Primary Type'].value_counts()"
   ]
  },
  {
   "cell_type": "code",
   "execution_count": 15,
   "metadata": {},
   "outputs": [
    {
     "name": "stdout",
     "output_type": "stream",
     "text": [
      "<class 'pandas.core.series.Series'>\n"
     ]
    }
   ],
   "source": [
    "print(type(Ohare[2001]))"
   ]
  },
  {
   "cell_type": "code",
   "execution_count": 32,
   "metadata": {},
   "outputs": [
    {
     "data": {
      "image/png": "[encoded data removed]",
      "text/plain": [
       "<Figure size 432x288 with 1 Axes>"
      ]
     },
     "metadata": {},
     "output_type": "display_data"
    }
   ],
   "source": [
    "Ohare_Theft = []\n",
    "for year in years:\n",
    "    Ohare_Theft.append(Ohare[year]['THEFT'])\n",
    "\n",
    "g = plt.plot(Ohare_Theft,year)\n",
    "plt.show()"
   ]
  },
  {
   "cell_type": "code",
   "execution_count": 21,
   "metadata": {},
   "outputs": [
    {
     "name": "stdout",
     "output_type": "stream",
     "text": [
      "<class 'numpy.int64'>\n"
     ]
    }
   ],
   "source": [
    "print(type(Ohare[2001]['THEFT']))"
   ]
  },
  {
   "cell_type": "code",
   "execution_count": null,
   "metadata": {},
   "outputs": [],
   "source": []
  },
  {
   "cell_type": "code",
   "execution_count": null,
   "metadata": {},
   "outputs": [],
   "source": []
  }
 ],
 "metadata": {
  "kernelspec": {
   "display_name": "Python 3",
   "language": "python",
   "name": "python3"
  },
  "language_info": {
   "codemirror_mode": {
    "name": "ipython",
    "version": 3
   },
   "file_extension": ".py",
   "mimetype": "text/x-python",
   "name": "python",
   "nbconvert_exporter": "python",
   "pygments_lexer": "ipython3",
   "version": "3.6.5"
  }
 },
 "nbformat": 4,
 "nbformat_minor": 2
}
